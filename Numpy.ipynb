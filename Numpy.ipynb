{
 "cells": [
  {
   "cell_type": "markdown",
   "id": "a4c29108",
   "metadata": {},
   "source": [
    "\n"
   ]
  },
  {
   "cell_type": "code",
   "execution_count": 1,
   "id": "57bd605f",
   "metadata": {},
   "outputs": [
    {
     "name": "stdout",
     "output_type": "stream",
     "text": [
      "Mean: 43.0\n",
      "Standard Deviation: 16.625281952496323\n"
     ]
    }
   ],
   "source": [
    "import numpy as np\n",
    "data = np.array([22,31,41,51,70])\n",
    "\n",
    "mean = np.mean(data)\n",
    "std_dev = np.std(data)\n",
    "\n",
    "print(\"Mean:\",mean)\n",
    "print(\"Standard Deviation:\",std_dev)"
   ]
  },
  {
   "cell_type": "code",
   "execution_count": 2,
   "id": "6c54b9c8",
   "metadata": {},
   "outputs": [
    {
     "name": "stdout",
     "output_type": "stream",
     "text": [
      "Random 5x5 matrix:\n",
      "[[44 39 31  5 42]\n",
      " [27 22 23  4 15]\n",
      " [30 37 46 38 47]\n",
      " [48 19  8 29 24]\n",
      " [49 11 34 31 18]]\n",
      "\n",
      "Minimum values along each row:\n",
      "[ 5  4 30  8 11]\n",
      "\n",
      "Maximum values along each row:\n",
      "[44 27 47 48 49]\n",
      "\n",
      "Minimum values along each column:\n",
      "[27 11  8  4 15]\n",
      "\n",
      "Maximum values along each column:\n",
      "[49 39 46 38 47]\n"
     ]
    }
   ],
   "source": [
    "import numpy as np\n",
    "\n",
    "matrix = np.random.randint(1, 50, size=(5, 5))\n",
    "\n",
    "print(\"Random 5x5 matrix:\")\n",
    "print(matrix)\n",
    "\n",
    "min_row = np.min(matrix, axis=1)\n",
    "max_row = np.max(matrix, axis=1)\n",
    "\n",
    "print(\"\\nMinimum values along each row:\")\n",
    "print(min_row)\n",
    "print(\"\\nMaximum values along each row:\")\n",
    "print(max_row)\n",
    "\n",
    "min_col = np.min(matrix, axis=0)\n",
    "max_col = np.max(matrix, axis=0)\n",
    "\n",
    "print(\"\\nMinimum values along each column:\")\n",
    "print(min_col)\n",
    "print(\"\\nMaximum values along each column:\")\n",
    "print(max_col)"
   ]
  },
  {
   "cell_type": "code",
   "execution_count": 3,
   "id": "3be0e3d4",
   "metadata": {},
   "outputs": [
    {
     "name": "stdout",
     "output_type": "stream",
     "text": [
      "Cosine Similarity: 0.9410051732510097\n"
     ]
    }
   ],
   "source": [
    "import numpy as np\n",
    "\n",
    "def cosine(a, b):\n",
    "    dot_product = np.dot(a, b)\n",
    "    a = np.linalg.norm(a)\n",
    "    b = np.linalg.norm(b)\n",
    "    similarity = dot_product / (a * b)\n",
    "    return similarity\n",
    "\n",
    "vector1 = np.array([23, 66, 93])\n",
    "vector2 = np.array([50, 42, 74])\n",
    "\n",
    "print(\"Cosine Similarity:\", cosine(vector1, vector2))"
   ]
  },
  {
   "cell_type": "code",
   "execution_count": null,
   "id": "4f079409",
   "metadata": {},
   "outputs": [],
   "source": []
  }
 ],
 "metadata": {
  "kernelspec": {
   "display_name": "Python 3 (ipykernel)",
   "language": "python",
   "name": "python3"
  },
  "language_info": {
   "codemirror_mode": {
    "name": "ipython",
    "version": 3
   },
   "file_extension": ".py",
   "mimetype": "text/x-python",
   "name": "python",
   "nbconvert_exporter": "python",
   "pygments_lexer": "ipython3",
   "version": "3.11.5"
  }
 },
 "nbformat": 4,
 "nbformat_minor": 5
}
